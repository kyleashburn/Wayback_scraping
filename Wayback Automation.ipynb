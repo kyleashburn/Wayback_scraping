{
 "cells": [
  {
   "cell_type": "code",
   "execution_count": 1,
   "id": "b51adbe6",
   "metadata": {},
   "outputs": [],
   "source": [
    "import json\n",
    "import pdfkit\n",
    "import requests\n",
    "import time\n",
    "import pandas as pd"
   ]
  },
  {
   "cell_type": "code",
   "execution_count": 2,
   "id": "28a18ec7",
   "metadata": {},
   "outputs": [],
   "source": [
    "base_url = \"https://web.archive.org/web/\"\n",
    "\n",
    "# function to go ahead and construct the urls we'll need here\n",
    "def ret_url(x):\n",
    "    specific_url = base_url + str(x[\"timestamp\"]) + \"/\" + x[\"original\"]\n",
    "    \n",
    "    return(specific_url)"
   ]
  },
  {
   "cell_type": "code",
   "execution_count": 29,
   "id": "c2bfb110",
   "metadata": {},
   "outputs": [],
   "source": [
    "failure_list = []\n",
    "\n",
    "# function to print to pdfs the webpages we're choosing here\n",
    "def print_url(x):\n",
    "    start = time.time()\n",
    "    # setting the filename\n",
    "    file_name = str(x[\"timestamp\"]) +\"-\" + x[\"original\"] +\".pdf\"\n",
    "    \n",
    "    # removing characters that aren't allowed in a file name\n",
    "    file_name = file_name.replace(\":\",\"-\")\n",
    "    file_name = file_name.replace(\"/\",\"-\")\n",
    "    \n",
    "    # checking if the file was originally a pdf or doc; if yes, downloading it\n",
    "    if \".pdf\" in x[\"original\"] or \".doc\" in x[\"original\"]:\n",
    "        # correcting for the issue with the extra .pdf\n",
    "        file_name = file_name[:len(file_name)-3]\n",
    "               \n",
    "        response = requests.get(x[\"storage_url\"])\n",
    "        \n",
    "        with open(file_name, \"wb\") as f:\n",
    "            f.write(response.content)\n",
    "    # if not pdf or doc, we're fine to go ahead and just download as pdf w/pdfkit    \n",
    "    else:\n",
    "        # trying to download it twice before we declare we failed (odd errors occur afterall)\n",
    "        try: \n",
    "            pdfkit.from_url(x[\"storage_url\"], file_name)\n",
    "            \n",
    "        except:\n",
    "            try:\n",
    "                pdfkit.from_url(x[\"storage_url\"], file_name)\n",
    "                \n",
    "            except:            \n",
    "                print(\"issue printing to pdf with:\", x[\"storage_url\"])\n",
    "                failure_list.append(x[\"storage_url\"])\n",
    "    delay = time.time() - start\n",
    "    \n",
    "    # setting a delay based off the time it takes to execute\n",
    "    time.sleep(2 * delay)\n"
   ]
  },
  {
   "cell_type": "markdown",
   "id": "1d9bf6ce",
   "metadata": {},
   "source": [
    "Retrieving the JSON object of URLS"
   ]
  },
  {
   "cell_type": "code",
   "execution_count": 25,
   "id": "810aac73",
   "metadata": {},
   "outputs": [
    {
     "name": "stdout",
     "output_type": "stream",
     "text": [
      "Wall time: 598 ms\n"
     ]
    }
   ],
   "source": [
    "%%time\n",
    "# starting url\n",
    "start_url = \"https://web.archive.org/cdx/search/cdx?url=http://www.chinese-embassy.org.uk/eng/PressandMedia/&matchType=prefix&output=json&limit=1000&showResumeKey=true&filter=statuscode:200&collapse=digest\" \n",
    "\n",
    "# using requests to pull the json webpage\n",
    "r = requests.get(start_url)\n",
    "\n",
    "# setting the scrape response to the json from the request\n",
    "scrape_response = r.json()\n",
    "\n",
    "# as long as the last element is a resume key\n",
    "while len(scrape_response[-1]) == 1:\n",
    "    # popping the last item (resume key) & second to last item (blank list)\n",
    "    resume_key = scrape_response.pop(-1)[0]\n",
    "    if len(scrape_response[-1]) == 0:\n",
    "        scrape_response.pop(-1)\n",
    "        \n",
    "    # updating the wayback url\n",
    "    wayback_url = start_url + \"&ResumeKey=\" + resume_key   \n",
    "    \n",
    "    # pulling the resumed query\n",
    "    \n",
    "    # error is on here obviously\n",
    "    r = requests.get(wayback_url).json()\n",
    "    \n",
    "    # extending the list of responses\n",
    "    scrape_response.extend(r)\n",
    "    \n",
    "    # sleeping 5 seconds each time to be nice to the server\n",
    "    time.sleep(5)"
   ]
  },
  {
   "cell_type": "code",
   "execution_count": 26,
   "id": "04b022a8",
   "metadata": {},
   "outputs": [],
   "source": [
    "# converting the cdx response to a df\n",
    "scrape_df = pd.DataFrame(scrape_response[1:], columns=scrape_response[0])"
   ]
  },
  {
   "cell_type": "code",
   "execution_count": 27,
   "id": "6352de74",
   "metadata": {},
   "outputs": [],
   "source": [
    "# removing the duplicates\n",
    "scrape_df.drop_duplicates(subset=\"original\", inplace=True)"
   ]
  },
  {
   "cell_type": "code",
   "execution_count": 28,
   "id": "9617a338",
   "metadata": {},
   "outputs": [],
   "source": [
    "# assigning the storage url\n",
    "scrape_df[\"storage_url\"] = scrape_df.apply(ret_url, axis=1)"
   ]
  },
  {
   "cell_type": "code",
   "execution_count": null,
   "id": "8fcbe88c",
   "metadata": {
    "scrolled": false
   },
   "outputs": [],
   "source": [
    "%%time\n",
    "# actually downloading all the urls\n",
    "scrape_df.apply(print_url, axis=1)"
   ]
  },
  {
   "cell_type": "code",
   "execution_count": null,
   "id": "cf466f7b",
   "metadata": {},
   "outputs": [],
   "source": []
  }
 ],
 "metadata": {
  "kernelspec": {
   "display_name": "Python 3",
   "language": "python",
   "name": "python3"
  },
  "language_info": {
   "codemirror_mode": {
    "name": "ipython",
    "version": 3
   },
   "file_extension": ".py",
   "mimetype": "text/x-python",
   "name": "python",
   "nbconvert_exporter": "python",
   "pygments_lexer": "ipython3",
   "version": "3.8.8"
  }
 },
 "nbformat": 4,
 "nbformat_minor": 5
}
